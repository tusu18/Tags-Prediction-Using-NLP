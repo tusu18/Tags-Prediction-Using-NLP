{
 "cells": [
  {
   "cell_type": "code",
   "execution_count": 722,
   "metadata": {},
   "outputs": [
    {
     "name": "stderr",
     "output_type": "stream",
     "text": [
      "[nltk_data] Downloading package stopwords to\n",
      "[nltk_data]     C:\\Users\\TUSHAR\\AppData\\Roaming\\nltk_data...\n",
      "[nltk_data]   Package stopwords is already up-to-date!\n"
     ]
    }
   ],
   "source": [
    "import pandas as pd\n",
    "import numpy as np\n",
    "import math\n",
    "from sklearn.neighbors import KNeighborsClassifier\n",
    "import nltk\n",
    "nltk.download('stopwords')\n",
    "from nltk.corpus import stopwords\n",
    "import re\n",
    "\n"
   ]
  },
  {
   "cell_type": "markdown",
   "metadata": {},
   "source": [
    "Here i have approached the problem using a Content Based Recommendation What i have done is that I have used preview Content of Blogs and Tags as the attributes to classify and recommend the Title for the Users The other aproach is the one which I have Mentioned at the last of this File"
   ]
  },
  {
   "cell_type": "markdown",
   "metadata": {},
   "source": [
    "As the tags Forms basis for Recommending the users the users having most number of preffered tags as per their previous vists are recommended accordingly this reduces the effort for settting the filter on the website for search \n"
   ]
  },
  {
   "cell_type": "markdown",
   "metadata": {},
   "source": [
    "# >The First Process is the Text processing and filtering\n",
    "# >Further the most number of tags and words are encountered in the data\n",
    "# >Then I fit the train data in Tfidf having ngram from (1,5) this can be changed accordingly to have a more detailed \n",
    "# and robust model\n",
    "# >Further the label model is encoded using MutliLabelBinarizer\n",
    "# >Then the model is train on traing data set In One Vs All classifier for Multiclassification with Logistic\n",
    "# Regression as model to train to have compressed\n",
    "# >And then Prediction of Labels are done using Content which can act as feed to another model nad recommend the top \n",
    "# contents\n"
   ]
  },
  {
   "cell_type": "code",
   "execution_count": null,
   "metadata": {},
   "outputs": [],
   "source": []
  },
  {
   "cell_type": "code",
   "execution_count": 579,
   "metadata": {},
   "outputs": [],
   "source": [
    "df1=pd.read_csv(\"EXAMPREP.csv\")"
   ]
  },
  {
   "cell_type": "code",
   "execution_count": 580,
   "metadata": {},
   "outputs": [],
   "source": [
    "df1[\"Generated_tags\"]=df1[\"Generated_tags\"].astype(str)"
   ]
  },
  {
   "cell_type": "code",
   "execution_count": 704,
   "metadata": {},
   "outputs": [],
   "source": [
    "df1[\"prev_cont\"]=df1[\"prev_cont\"].astype(str)"
   ]
  },
  {
   "cell_type": "code",
   "execution_count": 582,
   "metadata": {},
   "outputs": [],
   "source": [
    "from sklearn.model_selection import train_test_split"
   ]
  },
  {
   "cell_type": "code",
   "execution_count": 583,
   "metadata": {},
   "outputs": [
    {
     "data": {
      "text/plain": [
       "Index(['title', 'content', 'url', 'prev_cont', 'prev_image', 'date',\n",
       "       'author_name', 'author_link', 'tags', 'comments_cont', 'comments_date',\n",
       "       'comments_id', 'Generated_tags'],\n",
       "      dtype='object')"
      ]
     },
     "execution_count": 583,
     "metadata": {},
     "output_type": "execute_result"
    }
   ],
   "source": [
    "df1.columns"
   ]
  },
  {
   "cell_type": "code",
   "execution_count": 661,
   "metadata": {},
   "outputs": [],
   "source": [
    "REPLACE_BY_SPACE_RE = re.compile('[/(){}\\[\\]\\|@,;]')\n",
    "BAD_SYMBOLS_RE = re.compile('[^0-9a-z #+_]')\n",
    "STOPWORDS = set(stopwords.words('english'))\n",
    "\n",
    "def text_filter(text):\n",
    "    text = text.lower() # lowercase text\n",
    "    text = REPLACE_BY_SPACE_RE.sub(' ', text) # replace REPLACE_BY_SPACE_RE symbols by space in text\n",
    "    text = BAD_SYMBOLS_RE.sub('', text) # delete symbols which are in BAD_SYMBOLS_RE from text\n",
    "    text = ' '.join([word for word in text.split() if word not in STOPWORDS]) # delete stopwors from text\n",
    "    text = text.strip()\n",
    "    return text"
   ]
  },
  {
   "cell_type": "code",
   "execution_count": null,
   "metadata": {},
   "outputs": [],
   "source": []
  },
  {
   "cell_type": "code",
   "execution_count": 662,
   "metadata": {},
   "outputs": [],
   "source": [
    "X_train, X_test,y_train,y_test = train_test_split(df1['prev_cont'].values,df1['Generated_tags'].values,test_size=0.2,random_state=10)"
   ]
  },
  {
   "cell_type": "code",
   "execution_count": 663,
   "metadata": {},
   "outputs": [],
   "source": [
    "X_train=[text_filter(x) for x in X_train]"
   ]
  },
  {
   "cell_type": "code",
   "execution_count": 664,
   "metadata": {},
   "outputs": [],
   "source": [
    "X_test=[text_filter(x) for x in X_test]"
   ]
  },
  {
   "cell_type": "code",
   "execution_count": null,
   "metadata": {},
   "outputs": [],
   "source": []
  },
  {
   "cell_type": "code",
   "execution_count": 665,
   "metadata": {},
   "outputs": [],
   "source": [
    "for i in range(len(y_train)):\n",
    "    y_train[i]=y_train[i].split(\",\")"
   ]
  },
  {
   "cell_type": "code",
   "execution_count": 666,
   "metadata": {},
   "outputs": [],
   "source": [
    "for i in range(len(X_test)):\n",
    "    y_test[i]=y_test[i].split(\",\")"
   ]
  },
  {
   "cell_type": "code",
   "execution_count": 512,
   "metadata": {},
   "outputs": [
    {
     "data": {
      "text/plain": [
       "'form'"
      ]
     },
     "execution_count": 512,
     "metadata": {},
     "output_type": "execute_result"
    }
   ],
   "source": []
  },
  {
   "cell_type": "code",
   "execution_count": 604,
   "metadata": {},
   "outputs": [],
   "source": [
    "tags_counts={}\n",
    "words_counts={}\n",
    "\n",
    "from collections import Counter\n",
    "z=dict()\n",
    "for i in range(len(y_train)):\n",
    "    for j in range(1):\n",
    "        if y_train[i][j] in z.keys():\n",
    "            z[y_train[i][j]] +=1\n",
    "        else:\n",
    "            z[y_train[i][j]] = 1\n",
    "tags_counts=z            \n",
    "            \n",
    "p=dict()\n",
    "for i in range(len(X_train)):\n",
    "        for s in X_train[i].split():\n",
    "            if s in p.keys():\n",
    "                p[s] +=1\n",
    "            else:\n",
    "                p[s] = 1\n",
    "words_counts=p   "
   ]
  },
  {
   "cell_type": "code",
   "execution_count": 606,
   "metadata": {},
   "outputs": [],
   "source": [
    "from collections import Counter\n",
    "tags_counts = Counter([item for taglist in y_train for item in taglist])\n",
    "words_counts = Counter([word for line in X_train for word in line.split(' ')])"
   ]
  },
  {
   "cell_type": "code",
   "execution_count": 608,
   "metadata": {},
   "outputs": [],
   "source": [
    "most_common_tags = sorted(tags_counts.items(), key=lambda x: x[1], reverse=True)[:3]\n",
    "most_common_words = sorted(words_counts.items(), key=lambda x: x[1], reverse=True)[:3]\n",
    "\n"
   ]
  },
  {
   "cell_type": "code",
   "execution_count": 609,
   "metadata": {},
   "outputs": [
    {
     "data": {
      "text/plain": [
       "[('2020', 549), ('check', 155), ('exam', 111)]"
      ]
     },
     "execution_count": 609,
     "metadata": {},
     "output_type": "execute_result"
    }
   ],
   "source": [
    "most_common_words"
   ]
  },
  {
   "cell_type": "code",
   "execution_count": 617,
   "metadata": {},
   "outputs": [],
   "source": [
    "from sklearn.feature_extraction.text import TfidfVectorizer"
   ]
  },
  {
   "cell_type": "code",
   "execution_count": 618,
   "metadata": {},
   "outputs": [],
   "source": [
    "def tfidf_features(X_train,X_test):\n",
    "    \n",
    "    tfidf_vectorizer = TfidfVectorizer(ngram_range=(1,5), max_df=0.9, min_df=5, token_pattern='(\\S+)')\n",
    "    X_train_tfidf = tfidf_vectorizer.fit_transform(X_train)\n",
    "    return X_train_tfidf"
   ]
  },
  {
   "cell_type": "code",
   "execution_count": 628,
   "metadata": {},
   "outputs": [],
   "source": [
    "tfidf_vectorizer = TfidfVectorizer(ngram_range=(1,5), max_df=0.9, min_df=5, token_pattern='(\\S+)')\n",
    "X_train_tfidf = tfidf_vectorizer.fit_transform(X_train)\n",
    "X_test_tfidf = tfidf_vectorizer.transform(X_test)"
   ]
  },
  {
   "cell_type": "code",
   "execution_count": 632,
   "metadata": {},
   "outputs": [],
   "source": [
    "from sklearn.neighbors import NearestNeighbors"
   ]
  },
  {
   "cell_type": "code",
   "execution_count": 646,
   "metadata": {},
   "outputs": [],
   "source": [
    "from sklearn.preprocessing import MultiLabelBinarizer"
   ]
  },
  {
   "cell_type": "code",
   "execution_count": 647,
   "metadata": {},
   "outputs": [
    {
     "name": "stderr",
     "output_type": "stream",
     "text": [
      "C:\\ProgramData\\Anaconda3\\lib\\site-packages\\sklearn\\preprocessing\\label.py:935: UserWarning: unknown class(es) [0, 1] will be ignored\n",
      "  .format(sorted(unknown, key=str)))\n"
     ]
    }
   ],
   "source": [
    "mlb = MultiLabelBinarizer(classes=sorted(tags_counts.keys()))\n",
    "y_train = mlb.fit_transform(y_train)"
   ]
  },
  {
   "cell_type": "code",
   "execution_count": 622,
   "metadata": {},
   "outputs": [],
   "source": [
    "from sklearn.multiclass import OneVsRestClassifier\n",
    "from sklearn.linear_model import LogisticRegression, RidgeClassifier"
   ]
  },
  {
   "cell_type": "code",
   "execution_count": 623,
   "metadata": {},
   "outputs": [],
   "source": [
    "def train_classifier(X_train, y_train):\n",
    "    \n",
    "    model = OneVsRestClassifier(LogisticRegression(penalty='l2', C=1.0))\n",
    "    model.fit(X_train, y_train)\n",
    "    return model"
   ]
  },
  {
   "cell_type": "code",
   "execution_count": 624,
   "metadata": {},
   "outputs": [
    {
     "name": "stderr",
     "output_type": "stream",
     "text": [
      "C:\\ProgramData\\Anaconda3\\lib\\site-packages\\sklearn\\linear_model\\logistic.py:433: FutureWarning: Default solver will be changed to 'lbfgs' in 0.22. Specify a solver to silence this warning.\n",
      "  FutureWarning)\n",
      "C:\\ProgramData\\Anaconda3\\lib\\site-packages\\sklearn\\linear_model\\logistic.py:433: FutureWarning: Default solver will be changed to 'lbfgs' in 0.22. Specify a solver to silence this warning.\n",
      "  FutureWarning)\n"
     ]
    }
   ],
   "source": [
    "classifier_mybag = train_classifier(X_train_mybag, y_train)\n",
    "classifier_tfidf = train_classifier(X_train_tfidf, y_train)"
   ]
  },
  {
   "cell_type": "code",
   "execution_count": 657,
   "metadata": {},
   "outputs": [],
   "source": [
    "y_test_predicted_labels_tfidf = classifier_tfidf.predict(X_test_tfidf)\n"
   ]
  },
  {
   "cell_type": "code",
   "execution_count": null,
   "metadata": {},
   "outputs": [],
   "source": []
  },
  {
   "cell_type": "code",
   "execution_count": 651,
   "metadata": {},
   "outputs": [],
   "source": [
    "Predict1=mlb.inverse_transform(y_test_predicted_labels_tfidf)\n",
    "Predict2=mlb.inverse_transform(y_test_predicted_labels_tfidf2)"
   ]
  },
  {
   "cell_type": "code",
   "execution_count": 721,
   "metadata": {},
   "outputs": [
    {
     "name": "stdout",
     "output_type": "stream",
     "text": [
      "prev cont:\tnew feature allows facebook users opt facial recognition social network\n",
      "Predicted labels:\tat,c,d,e,n,r\n",
      "prev cont:\tsimple threedimensional structure reduces error outcompetes complex models doubles savings\n",
      "Predicted labels:\tat,c,d,e,io,n,r\n",
      "prev cont:\tgate\n",
      "Predicted labels:\tat,c,d,e,n,r\n",
      "prev cont:\tmat 2020 aima released application form mat 2020 december 27 2020 know details mat 2020 application form dates admit card result cutoff selection procedure\n",
      "Predicted labels:\tai,application,at,c,cat,d,date,e,form,io,n,r\n",
      "prev cont:\tcat exam tough beast slay cracking exam half battle real test lies ahead cracking watpi rounds dream business schools youre competing creamy layer indias top talent competition going become immensely tough\n",
      "Predicted labels:\tat,c,cat,d,e,io,n,r\n",
      "prev cont:\taihmct wat 2020 army institute hotel management catering technology start aihmct wat online registration anytime soon interested eligible candidates apply january 29 tentative\n",
      "Predicted labels:\tat,c,d,e,io,n,r\n",
      "prev cont:\tcourt asked jnu administration reply plea filed jnusu members within two weeks\n",
      "Predicted labels:\tat,c,d,e,io,n,r\n",
      "prev cont:\txat 2020 topper interview know preparation strategy xat 2020 topper satyam sharma exclusive interview careers360\n",
      "Predicted labels:\tat,c,d,e,n,r\n",
      "prev cont:\tcourt asked jnu administration reply plea filed jnusu members within two weeks\n",
      "Predicted labels:\tat,c,d,e,io,n,r\n",
      "prev cont:\tgroup also suggested restructuring mbbs curriculum restoring pg diplomas\n",
      "Predicted labels:\tat,c,d,e,n,r\n",
      "prev cont:\tjee main counselling seat allotment 2020 josaa conducting body jee main 2020 counselling seat allotment process held online mode tentatively third week june 2020\n",
      "Predicted labels:\tai,at,c,d,e,io,jee main,main,n,r\n",
      "prev cont:\tkarnataka pgcet mba 2020 paperbased offline exam conducted tentatively third week july 2020 single session across exam centres karnataka check details article\n",
      "Predicted labels:\tai,at,c,d,e,io,n,r\n",
      "prev cont:\tmadhya pradesh state education department released time table 5th 8th board examinations official website january 20 2020\n",
      "Predicted labels:\tat,c,cat,d,date,e,io,n,r\n",
      "prev cont:\tjkcet answer key 2020 jkcet 2020 answer key tentatively last week april candidates check complete details jkcet 2020 answer key page\n",
      "Predicted labels:\tat,c,d,e,n,r\n",
      "prev cont:\tjee main paper 2 result 2020 nta releasing result jee main 2020 paper 2 january 31 candidates able check jee main paper 2 result using credentials\n",
      "Predicted labels:\tai,at,c,d,e,jee main,main,n,r,red\n",
      "prev cont:\tmhrd suggested cabinet launch online degree programme swayam\n",
      "Predicted labels:\tat,c,d,e,io,n,r\n",
      "prev cont:\tone student sustained injuries left hand referred trauma centre\n",
      "Predicted labels:\tat,c,d,e,n,r\n",
      "prev cont:\tread article learn eligibility concession tnpsc group 1 examination 2020\n",
      "Predicted labels:\tat,c,d,e,io,n,r\n",
      "prev cont:\tyouve received interview call xlri cannot miss article xlri student shares tips cracking interview round\n",
      "Predicted labels:\tat,c,d,e,n,r,this\n",
      "prev cont:\tnational testing agency nta released jee main 2020 paper 2 result january 23 nta conducted jee main 2020 january 6 9 conduct april 3 9\n",
      "Predicted labels:\tai,at,c,d,e,io,jee main,main,n,r\n",
      "prev cont:\tjee main counselling seat allotment 2020 josaa conducting body jee main 2020 counselling seat allotment process held online mode tentatively third week june 2020\n",
      "Predicted labels:\tai,at,c,d,e,io,jee main,main,n,r\n",
      "prev cont:\tgmat typically taken students attempt study abroad however many indian b schools begun accepting gmat scores recent years video spoke dhruv chopra pgdm student great lakes institute management chennai talks scored 740 gmat second attempt coming engineering background found quant fairly easy struggled tackling verbal juggling job gmat prep improved score 670 first attempt 740 second find video\n",
      "Predicted labels:\tai,at,c,com,d,e,n,r\n",
      "prev cont:\tiit bombay released uceed ceed 2020 provisional answer key january 21 2020 online mode check details\n",
      "Predicted labels:\tai,at,c,d,e,io,n,r\n",
      "prev cont:\ttissnet mba selection procedure 2020 selection procedure tissnet 2020 consists national entrance exam pit gd pi check tissnet selection procedure\n",
      "Predicted labels:\tat,c,d,e,io,n,r\n",
      "prev cont:\tmet 2020 held april 17 26 computer based test\n",
      "Predicted labels:\tat,c,d,e,io,n,r\n",
      "prev cont:\tjee main 2020 topper nishakar kumar secured 998656201 nta score january attempt know preparation strategy future plans jee main topper\n",
      "Predicted labels:\tai,at,c,d,e,io,jee main,main,n,r\n",
      "prev cont:\twork jupyter notebooks every day every day use edit python libraries key elements work notebooks\n",
      "Predicted labels:\tat,c,d,e,io,n,r\n",
      "prev cont:\tseries highprofile forgery cases spooked art world cost auction houses millions artificial intelligence ride\n",
      "Predicted labels:\tat,c,d,e,n,r\n",
      "prev cont:\tkerala chief minister pinarayi vijayan sent letter prime minister narendra modi requesting airlift indians stranded wuhan city china epicentre deadly coronavirus\n",
      "Predicted labels:\tc,d,e,n,r\n",
      "prev cont:\tibsat important dates 2020 candidates check important dates ibsat 2020 application form admit card answer key exam result cutoff counselling etc\n",
      "Predicted labels:\tapplication,at,c,cat,d,date,e,form,io,n,r\n",
      "prev cont:\tjanuary 20 modi discussed exams stress around 2 000 students\n",
      "Predicted labels:\tat,c,d,e,n,r\n",
      "prev cont:\tjargon means special terms used group particular context difficult others understand kind code\n",
      "Predicted labels:\tat,c,d,e,n,r\n",
      "prev cont:\tdeep dive kalman filters one widespread useful algorithms times\n",
      "Predicted labels:\tat,c,d,e,io,n,r\n",
      "prev cont:\tdetails maharashtra mba admissions 2020 mba entrance exams eligibility selection process fees important dates\n",
      "Predicted labels:\tai,at,c,d,date,e,io,n,process,r,selection,tail\n",
      "prev cont:\tnicholas giangreco linkedin github\n",
      "Predicted labels:\tat,c,d,e,io,n,r\n",
      "prev cont:\tiim rohtak fees know fee structure number seats available iim rohtak take closer look iim rohtak fees number seats programme details admission process\n",
      "Predicted labels:\tai,at,c,d,e,io,n,r\n",
      "prev cont:\tashoka university announces launch trivedi school biosciences ashok trivedi funding school rs 100 crore commitment\n",
      "Predicted labels:\tat,c,d,e,io,n,r\n",
      "prev cont:\tcheck list colleges offering admission mbbs course neet aiq range 500 100 read information\n",
      "Predicted labels:\tat,c,d,e,io,lis,n,r\n",
      "prev cont:\tavinash thakur launched start joined imt ghaziabad article speaks start functions\n",
      "Predicted labels:\tat,c,d,e,io,n,r,this\n",
      "prev cont:\tgseb released gujcet 2020 application form online mode candidates register gujcet 2020 conducted march 31 2020\n",
      "Predicted labels:\tapplication,at,c,cat,d,date,e,form,io,n,r\n",
      "prev cont:\ttntet 2020 syllabus paper 1 paper 2 downloaded pdf format page directly tntet important topics best books\n",
      "Predicted labels:\tat,c,d,e,n,r\n",
      "prev cont:\tset bba eligibility criteria 2020 candidates check eligibility criteria set bba 2020 including education qualification age limit\n",
      "Predicted labels:\tat,c,cat,d,date,e,io,n,r\n",
      "prev cont:\tapplications open iihm echat 2020 find eligibility important dates counselling process iihm echat 2020 exam\n",
      "Predicted labels:\tat,c,d,date,e,io,n,r\n",
      "prev cont:\tcome neet predicted question paper 2020 along expected questions biology chemistry physics\n",
      "Predicted labels:\tat,c,d,e,io,n,r\n",
      "prev cont:\tjee main paper 2 result 2020 nta releasing result jee main 2020 paper 2 january 31 candidates able check jee main paper 2 result using credentials\n",
      "Predicted labels:\tai,at,c,d,e,jee main,main,n,r,red\n",
      "prev cont:\tfundamentals machine learning necessary tools evaluate risk concerns machine learning\n",
      "Predicted labels:\tat,c,d,e,learning,n,r\n",
      "prev cont:\tjanuary 20 modi discussed exams stress around 2 000 students\n",
      "Predicted labels:\tat,c,d,e,n,r\n",
      "prev cont:\tmaharashtra mtech merit list 2020 candidates able access merit list maharashtra mtech 2020 online mode merit based gate scores\n",
      "Predicted labels:\tat,c,d,date,e,io,n,r\n",
      "prev cont:\tlearn mlbox quickly efficiently train automated machine learning pipeline classification problem python\n",
      "Predicted labels:\tat,c,d,e,learning,n,r\n",
      "prev cont:\trust go kotlin typescript swift dart julia boost career improve software development skills\n",
      "Predicted labels:\tat,c,d,e,io,n,r\n",
      "prev cont:\tgseb released gujcet 2020 application form online mode candidates register gujcet 2020 conducted march 31 2020\n",
      "Predicted labels:\tapplication,at,c,cat,d,date,e,form,io,n,r\n",
      "prev cont:\tpearl academy going release result pearl academy 2020 january 22 candidates able download results using login credentials\n",
      "Predicted labels:\tat,c,d,date,e,n,r,red\n",
      "prev cont:\tcmat selection procedure 2020 selection procedure cmat 2020 comprises gd pi wat candidates check complete cmat selection procedure\n",
      "Predicted labels:\tat,c,d,e,io,n,r\n",
      "prev cont:\t3\n",
      "Predicted labels:\tnan\n",
      "prev cont:\tyouve received interview call xlri cannot miss article xlri student shares tips cracking interview round\n",
      "Predicted labels:\tat,c,d,e,n,r,this\n",
      "prev cont:\ttancet mba application form 2020 application form tancet mba 2020 released january 7 2020 annaunivedu candidates check application form tancet mba 2020 including important dates download application fee etc\n",
      "Predicted labels:\tapplication,at,c,cat,d,date,e,form,io,n,r\n",
      "prev cont:\tlow score cmat dont worry got covered check list mba colleges accept low cmat scores admission\n",
      "Predicted labels:\tat,c,cmat,d,e,go,io,lis,list,mat,n,r,red,score,this\n",
      "prev cont:\tiim fee structure seats know fee structure iims number seats available iim get details iims mba fee structure seats\n",
      "Predicted labels:\tai,at,c,d,e,io,n,r\n",
      "prev cont:\tts eamcet application form 2020 jntu release ts eamcet 2020 application form tentatively first week march 2020 candidate able fill application form know fill ts eamcet application form\n",
      "Predicted labels:\tapplication,at,c,cat,d,date,e,form,io,n,r\n",
      "prev cont:\tcmat selection procedure 2020 selection procedure cmat 2020 comprises gd pi wat candidates check complete cmat selection procedure\n",
      "Predicted labels:\tat,c,d,e,io,n,r\n",
      "prev cont:\tneed know cap 2020 find cap 2020 dates selection criteria cutoff\n",
      "Predicted labels:\tat,c,d,date,e,io,n,r\n",
      "prev cont:\tgate\n",
      "Predicted labels:\tat,c,d,e,n,r\n",
      "prev cont:\tcbse announced ctet 2020 exam dates latest press release check ctet application dates\n",
      "Predicted labels:\tapplication,at,c,cat,d,date,e,io,n,r\n",
      "prev cont:\tiim indore students shared tips insights interview experiences help crack interviews second part series\n",
      "Predicted labels:\tat,c,d,e,ip,n,r,red\n",
      "prev cont:\tyoure starting preparation cat need read tips written founder one indias best online cat preparation centres\n",
      "Predicted labels:\tat,c,cat,d,e,io,n,r\n",
      "prev cont:\tstepbystep guide using simple neural network model functional connectivitybased classification\n",
      "Predicted labels:\tat,c,d,e,io,n,r\n",
      "prev cont:\tcheck important details regarding gpat 2020 pg scholarship scheme offered aicte learn gpat pg scholarship eligibility application\n",
      "Predicted labels:\tai,at,c,d,e,io,n,r,tail\n",
      "prev cont:\tpost shows get machine ready object detection using yolov3 specifically alexeyabs yolov3 github repo\n",
      "Predicted labels:\tat,c,d,e,io,n,r\n",
      "prev cont:\tapplication form set 2020 released online mode final date apply april 16 2020\n",
      "Predicted labels:\tapplication,at,c,cat,d,date,e,form,io,n,r\n",
      "prev cont:\ttop mba colleges india 2020 top business schools good mba india find bschool rankings\n",
      "Predicted labels:\tat,c,d,e,india,n,r\n",
      "prev cont:\trmat 2020 india management association aima association aligarh muslim university aiu conduct research management aptitude test rmat 2019 offline paperpencil mode admission phd business administration programme\n",
      "Predicted labels:\tat,c,d,e,io,n,r\n",
      "prev cont:\tsjmsom summer placements 2021 report mba class 20192021 released find salaries offered top recruiters sjmsom iit bombay\n",
      "Predicted labels:\tat,c,d,e,n,r,red,ui\n",
      "prev cont:\tmicat 2020 begun computer based mode entrance exam held one session timing micat exam 0900 till 1150\n",
      "Predicted labels:\tat,c,d,e,io,n,r\n",
      "prev cont:\tcmat 2020 entrance exam conducted january 28th 2020 check last minutes preparation tips article\n",
      "Predicted labels:\tat,c,d,e,io,ip,mat,n,r\n",
      "prev cont:\tmat eligibility criteria 2020 candidates check eligibility criteria mat 2020 including age limit minimum qualification application process\n",
      "Predicted labels:\tat,c,cat,d,date,e,io,n,r\n",
      "prev cont:\tts pgecet application form 2020 candidates able access application form ts pgecet 2020 tentatively second week march\n",
      "Predicted labels:\tapplication,at,c,cat,d,date,e,form,io,n,r\n",
      "prev cont:\tnational testing agency nta released jee main 2020 result january 17 nta conducted jee main 2020 january 6 9 conduct april 3 9\n",
      "Predicted labels:\tai,at,c,d,e,io,jee main,main,n,r\n",
      "prev cont:\tmicat 2020 begun computer based mode entrance exam held one session timing micat exam 0900 till 1150\n",
      "Predicted labels:\tat,c,d,e,io,n,r\n",
      "prev cont:\tjanuary 20 modi discussed exams stress around 2 000 students\n",
      "Predicted labels:\tat,c,d,e,n,r\n",
      "prev cont:\tavinash thakur launched start joined imt ghaziabad article speaks start functions\n",
      "Predicted labels:\tat,c,d,e,io,n,r,this\n",
      "prev cont:\tactually talked people lately instead looking numbers\n",
      "Predicted labels:\tat,c,d,e,io,n,r\n",
      "prev cont:\tjkcet result 2020 jkbopee declare jkcet 2020 result online mode tentatively third week may download jkcet merit list\n",
      "Predicted labels:\tat,c,d,e,io,n,r\n",
      "prev cont:\twealth size interest football explain almost half countries international performance rest taught\n",
      "Predicted labels:\tat,c,d,e,io,n,r\n",
      "prev cont:\tneet pg results 2020 released january 31 nbeeduin know official details download neet pg result pdf merit list details\n",
      "Predicted labels:\tai,at,c,d,e,n,r,tail\n",
      "prev cont:\tcheck list colleges mbbs admission neet ug 1 500 ranks read information\n",
      "Predicted labels:\tat,c,d,e,io,n,r\n",
      "prev cont:\tlearn 5 quality assurance workflows data labeling impact throughput data quality machine learning ai business data preparation\n",
      "Predicted labels:\tat,c,d,e,n,r\n",
      "prev cont:\tdetails maharashtra mba admissions 2020 mba entrance exams eligibility selection process fees important dates\n",
      "Predicted labels:\tai,at,c,d,date,e,io,n,process,r,selection,tail\n",
      "prev cont:\tmat 2020 cbt mode admit card available january 28\n",
      "Predicted labels:\tai,at,c,d,e,mat,n,r\n",
      "prev cont:\tts icet eligibility criteria 2020 candidates check eligibility criteria ts icet 2020 including education qualification age criteria\n",
      "Predicted labels:\tat,c,cat,d,date,e,io,n,r\n",
      "prev cont:\tlooking telangana pg medical counselling 2020 click link find telangana pg medical admissions 2020\n",
      "Predicted labels:\tat,c,d,e,n,r\n",
      "prev cont:\t21 bash commands save time\n",
      "Predicted labels:\tat,c,d,e,io,n,r\n",
      "prev cont:\taihmct wat 2020 army institute hotel management catering technology start aihmct wat online registration anytime soon interested eligible candidates apply january 29 tentative\n",
      "Predicted labels:\tat,c,d,e,io,n,r\n",
      "prev cont:\tgseb released gujcet 2020 application form online mode candidates register gujcet 2020 conducted march 31 2020\n",
      "Predicted labels:\tapplication,at,c,cat,d,date,e,form,io,n,r\n",
      "prev cont:\taward conferred upon 141 personalities seven padma vibhushan 16 padma bhushan 118 padma shri awards\n",
      "Predicted labels:\tat,c,d,e,n,r\n",
      "prev cont:\tailet 2020 preparation strategy study plan english section elaborated article check syllabus preparation tips\n",
      "Predicted labels:\tat,c,d,e,io,ip,n,r\n",
      "prev cont:\tjee main eligibility criteria 2020 nta released jee main 2020 eligibility criteria along official notification know information related jee main eligibility criteria\n",
      "Predicted labels:\tai,at,c,d,e,io,jee main,main,n,r\n",
      "prev cont:\tnta released jee main april exam dates jee main 2020 april exam conducted april 5 7 8 9 11 get details jee main april 2020 eligibility important dates exam pattern result\n",
      "Predicted labels:\tai,at,c,d,date,e,io,jee main,main,n,r\n",
      "prev cont:\thuman tap onto machine learning black box model\n",
      "Predicted labels:\tat,c,d,e,learning,n,r\n",
      "prev cont:\tjemat application form 2020 maulana abul kalam azad university technology makaut west bengal release application form jemat 2020 second week may\n",
      "Predicted labels:\tapplication,at,c,cat,d,e,form,io,n,r\n",
      "prev cont:\tpart immersive data science course general assembly designed classification model python using natural language\n",
      "Predicted labels:\tat,c,d,e,n,r\n"
     ]
    }
   ],
   "source": [
    "for i in range(100):\n",
    "    print('prev cont:\\t{}\\nPredicted labels:\\t{}'.format(\n",
    "        X_test[i],\n",
    "        ','.join(Predict1[i])))"
   ]
  },
  {
   "cell_type": "code",
   "execution_count": 685,
   "metadata": {},
   "outputs": [],
   "source": [
    "from sklearn.metrics import accuracy_score\n",
    "from sklearn.metrics import f1_score\n",
    "from sklearn.metrics import roc_auc_score \n",
    "from sklearn.metrics import average_precision_score\n",
    "from sklearn.metrics import recall_score"
   ]
  },
  {
   "cell_type": "markdown",
   "metadata": {},
   "source": [
    "# Thus from tags we can determine the Title to recommend as I have used cosine similarity for distance calculation in tfidf we get almost closest value Further as the data can be more detailed with having a attribute of similarity between the blogs using tags which can work for Collaberative filtering as per the user based although this model uses Machile Learning models A one without one using simple nlp can be created The futher one with a robust structure can be created using SVD I have tried a basic version of Knn for this dataset although the filterings was not so good so i go up with this model"
   ]
  },
  {
   "cell_type": "code",
   "execution_count": null,
   "metadata": {},
   "outputs": [],
   "source": []
  }
 ],
 "metadata": {
  "kernelspec": {
   "display_name": "Python 3",
   "language": "python",
   "name": "python3"
  },
  "language_info": {
   "codemirror_mode": {
    "name": "ipython",
    "version": 3
   },
   "file_extension": ".py",
   "mimetype": "text/x-python",
   "name": "python",
   "nbconvert_exporter": "python",
   "pygments_lexer": "ipython3",
   "version": "3.7.3"
  }
 },
 "nbformat": 4,
 "nbformat_minor": 2
}
